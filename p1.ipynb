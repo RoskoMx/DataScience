{
 "cells": [
  {
   "cell_type": "markdown",
   "metadata": {},
   "source": [
    "El script de extract.py para extraer datos de resultados de los archivos que usa el servicio web de los resultados. \n",
    "\n",
    "Ojo: no se pueden correr en jupyter ya que utilizan archivos de entrada que no están presentes."
   ]
  },
  {
   "cell_type": "code",
   "execution_count": null,
   "metadata": {},
   "outputs": [],
   "source": [
    "from collections import defaultdict\n",
    "\n",
    "def value(cont):\n",
    "    kind = cont[:2]\n",
    "    cont = cont[2:] # skip activity ID\n",
    "    points = 0.0\n",
    "    if '_' in cont:\n",
    "        parts = cont.split('_')\n",
    "        if len(parts) == 2:\n",
    "            up = int(parts.pop(0))\n",
    "            down = int(parts.pop(0))\n",
    "            value = up / (1.0 * down)\n",
    "            points += float(value)\n",
    "        else:\n",
    "            assert len(parts) == 3\n",
    "            whole = int(parts.pop(0))         \n",
    "            up = int(parts.pop(0))\n",
    "            down = int(parts.pop(0))\n",
    "            value = whole + up / (1.0 * down)\n",
    "            points += float(value)\n",
    "    elif cont[0] == '#':\n",
    "        for c in cont:\n",
    "            if c != '#' and c != '-' and c != '0':\n",
    "                if c.isdigit():\n",
    "                    points += int(c)\n",
    "                elif c == '+': \n",
    "                    points += 0.5\n",
    "                elif c == 'x':\n",
    "                    points += 1.5\n",
    "    elif cont != '-':\n",
    "        points += float(cont)\n",
    "    return (kind, points)\n",
    "\n",
    "sem = [\"ej17\", \"ad17\", \"ej18\", \"ad18\"]\n",
    "act = [\"mc\", \"eo\", \"pr\", \"pf\"]\n",
    "\n",
    "print(\"sem matr\", \" \".join(act))\n",
    "\n",
    "for s in sem:\n",
    "    filename = \"exams_md.\" + s\n",
    "    with open(filename) as data:\n",
    "        for line in data:\n",
    "            line = line.strip()\n",
    "            if len(line) > 0:\n",
    "                t = line.split()\n",
    "                m = t.pop(0)\n",
    "                totals = defaultdict(float)\n",
    "                for token in t:\n",
    "                    (kind, pts) = value(token)\n",
    "                    totals[kind] += pts\n",
    "                print(s, m, \" \".join([str(totals.get(a, \"NP\")) for a in act]))"
   ]
  },
  {
   "cell_type": "code",
   "execution_count": null,
   "metadata": {},
   "outputs": [],
   "source": [
    "El resultado de este script se redirige a un archivo resultados.txt con > en bash.\n",
    "A este archivo usa como entrada al siguiente script de python.\n",
    "Este combina información de los distintos semestres (utilizando archivos de listados de inscritos)\n",
    "y además los puntos de tareas y otros datos capturados en las páginas web de resultados.\n",
    "Algunos listados contienen solamente terminaciones de matrícula mientras otros contienen los siete dígitos completos.\n",
    "Herramientas tipo hoja de cálculo suelen tragar ceros iniciales, lo que hay que tomar en cuenta."
   ]
  },
  {
   "cell_type": "code",
   "execution_count": null,
   "metadata": {},
   "outputs": [],
   "source": [
    "def pad(suffix, goal):\n",
    "    while len(suffix) < goal:\n",
    "        suffix = '0' + suffix\n",
    "    return suffix\n",
    "\n",
    "def match(suffix, candidates):\n",
    "    k = 7 - len(suffix)\n",
    "    for c in candidates:\n",
    "        if c[k:] == suffix:\n",
    "            return c\n",
    "    return None\n",
    "\n",
    "sem = dict()\n",
    "ss = ['ej17', 'ad17', 'ej18', 'ad18']\n",
    "sl = {'ej17': 4, 'ad17': 4, 'ej18': 5, 'ad18': 5}\n",
    "for s in ss:\n",
    "    sem[s] = dict()\n",
    "    with open('inscritos.' + s) as data:\n",
    "        for line in data:\n",
    "            tokens = line.split()\n",
    "            m = tokens.pop(0)\n",
    "            if m not in sem[s]:\n",
    "                sem[s][m] = dict()\n",
    "\n",
    "hdr = ['sem', 'matr']\n",
    "\n",
    "with open('resultados.txt') as data:\n",
    "    header = data.readline().split()\n",
    "    header.pop(0) # sem                                                                                                                                                                                                          \n",
    "    header.pop(0) # matr                                                                                                                                                                                                         \n",
    "    hdr += header\n",
    "    for line in data:\n",
    "        tokens = line.split()\n",
    "        s = tokens.pop(0).lower()\n",
    "        m = tokens.pop(0)\n",
    "        if  m not in sem[s]:\n",
    "            continue # oyente                                                                                                                                                                                                    \n",
    "        for p in range(len(header)):\n",
    "            sem[s][m][header[p]] = tokens.pop(0).strip()\n",
    "\n",
    "with open('primera.csv') as data:\n",
    "    header = data.readline().strip().split(',')\n",
    "    header.pop(0) # sem                                                                                                                                                                                                          \n",
    "    header.pop(0) # matr                                                                                                                                                                                                         \n",
    "    hdr += [h + '_1ra' for h in header]\n",
    "    for line in data:\n",
    "        tokens = line.split(',')\n",
    "        s = tokens.pop(0).lower()\n",
    "        m = match(pad(tokens.pop(0), sl[s]), sem[s].keys())\n",
    "        if m is not None: # inscrito                                                                                                                                                                                             \n",
    "            for p in range(len(header)):\n",
    "                sem[s][m][header[p] + \"_1ra\"] = tokens.pop(0).strip()\n",
    "\n",
    "with open('segunda.csv') as data:\n",
    "    header = data.readline().strip().split(',')\n",
    "    header.pop(0) # sem                                                                                                                                                                                                          \n",
    "    header.pop(0) # matr                                                                                                                                                                                                         \n",
    "    hdr += [h + '_2da' for h in header]\n",
    "    for line in data:\n",
    "        tokens = line.split(',')\n",
    "        s = tokens.pop(0).lower()\n",
    "        m = match(tokens.pop(0), sem[s].keys())\n",
    "        if m is not None: # inscrito                                                                                                                                                                                             \n",
    "            for p in range(len(header)):\n",
    "                sem[s][m][header[p] + \"_2da\"] = tokens.pop(0).strip()\n",
    "\n",
    "print(' '.join(hdr))\n",
    "for s in sem:\n",
    "    for m in sem[s]:\n",
    "        d = sem[s][m]\n",
    "        print(s, m, ' '.join([str(d.get(h, \"NA\")) for h in hdr[2:]]))"
   ]
  },
  {
   "cell_type": "code",
   "execution_count": null,
   "metadata": {},
   "outputs": [],
   "source": [
    "La salida de éste se almacena para procesamiento: \n",
    "    \n",
    "python3 combine.py > elisa.dat"
   ]
  },
  {
   "cell_type": "code",
   "execution_count": null,
   "metadata": {},
   "outputs": [],
   "source": [
    "Lo de md5 que se menciona en la práctica se puede también lograr con python:"
   ]
  },
  {
   "cell_type": "code",
   "execution_count": null,
   "metadata": {},
   "outputs": [],
   "source": [
    "import md5\n",
    "elisa = \"elisa.schaeffer@gmail.com\"\n",
    "hash = md5.new()\n",
    "hash.update(elisa)\n",
    "hash.hexdigest()"
   ]
  },
  {
   "cell_type": "code",
   "execution_count": null,
   "metadata": {},
   "outputs": [],
   "source": [
    "El resultado es el mismo 7d3927bc722d4bbf96fb449ab4724c11 que se obtuvo en bash."
   ]
  }
 ],
 "metadata": {
  "kernelspec": {
   "display_name": "Python 3",
   "language": "python",
   "name": "python3"
  },
  "language_info": {
   "codemirror_mode": {
    "name": "ipython",
    "version": 3
   },
   "file_extension": ".py",
   "mimetype": "text/x-python",
   "name": "python",
   "nbconvert_exporter": "python",
   "pygments_lexer": "ipython3",
   "version": "3.6.2"
  }
 },
 "nbformat": 4,
 "nbformat_minor": 2
}
