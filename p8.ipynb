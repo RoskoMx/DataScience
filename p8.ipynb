{
 "cells": [
  {
   "cell_type": "markdown",
   "metadata": {},
   "source": [
    "**Práctica 8: Análisis de varianza y de componentes principales**\n",
    "    \n",
    "Análisis de varianza (ANOVA) es una herramienta para cuantificar sí o no una variable o factor tiene un efecto estadísticamente significativo en una variable de interés. Se realiza a partir de la salida del modelo de regresión que se obtiene con otra versión de ols.\n",
    "\n",
    "Hay [tres tipos de ANOVA](https://mcfromnz.wordpress.com/2011/03/02/anova-type-iiiiii-ss-explained/), cuyo uso depende de sí o no se espera contar con interacciones entre las variables de entrada y sí o lo los datos son [balanceados](https://www.statisticshowto.datasciencecentral.com/balanced-and-unbalanced-designs/).\n",
    "\n",
    "La hipótesis nula en ANOVA es que no haya diferencias; si el valor p de una variable es menor a la significancia establecida (para nosotros 0.05 está bien; con muchos datos muy precisos es mejor usar 0.01), entonces se rechaza la hipótesis nula, concluyendo que esa variable sí tiene un efecto estadísticamente significativo. "
   ]
  },
  {
   "cell_type": "code",
   "execution_count": 8,
   "metadata": {},
   "outputs": [
    {
     "name": "stdout",
     "output_type": "stream",
     "text": [
      "               sum_sq     df          F        PR(>F)\n",
      "hrsNum     402.883907    1.0   7.698658  6.418963e-03\n",
      "eM        1748.312778    1.0  33.408289  6.122009e-08\n",
      "eF        1242.734805    1.0  23.747263  3.424109e-06\n",
      "Residual  6227.473060  119.0        NaN           NaN\n",
      "hrsNum es significativo\n",
      "eM es significativo\n",
      "eF es significativo\n",
      "Residual no es significativo\n"
     ]
    }
   ],
   "source": [
    "import statsmodels.api as sm\n",
    "from statsmodels.formula.api import ols\n",
    "from numpy import isnan\n",
    "import pandas as pd\n",
    "import ssl\n",
    "\n",
    "if getattr(ssl, '_create_unverified_context', None):\n",
    "    ssl._create_default_https_context = ssl._create_unverified_context\n",
    "o = pd.read_csv(\"https://elisa.dyndns-web.com/teaching/comp/datasci/modelar.csv\")\n",
    "x = o.loc[o.profe == 'elisa']\n",
    "datos = pd.concat([x.loc[x.CF1op >= 70], x.loc[~isnan(x.CF2op)]]) # discretas con elisa\n",
    "d = pd.DataFrame(datos, columns = [\"CF1op\", \"hrsNum\", \"eM\", \"eF\"])\n",
    "d = d.dropna() \n",
    "m = ols('CF1op ~ hrsNum + eM + eF', data = d).fit() \n",
    "a = sm.stats.anova_lm(m, typ = 2)\n",
    "print(a)\n",
    "n = len(a)\n",
    "alpha = 0.05\n",
    "for i in range(n):\n",
    "    print(\"{:s} {:s}es significativo\".format(a.index[i], \"\" if a['PR(>F)'][i] < alpha else \"no \"))"
   ]
  },
  {
   "cell_type": "markdown",
   "metadata": {},
   "source": [
    "Los residuales son enormes; hay mucha variación por explicar. El modelo no es muy bueno aún.\n",
    "\n",
    "Agreguemos factores potenciales."
   ]
  },
  {
   "cell_type": "code",
   "execution_count": 18,
   "metadata": {},
   "outputs": [
    {
     "name": "stdout",
     "output_type": "stream",
     "text": [
      "                     sum_sq     df          F    PR(>F)\n",
      "inicio           524.965987    1.0  11.691939  0.000901\n",
      "hrsNum            76.374525    1.0   1.700998  0.195064\n",
      "eM              1117.243640    1.0  24.883030  0.000002\n",
      "eF               850.115068    1.0  18.933595  0.000032\n",
      "hrsEstudio_ini   375.271490    1.0   8.357973  0.004684\n",
      "Residual        4624.681816  103.0        NaN       NaN\n",
      "inicio es significativo\n",
      "hrsNum NO es significativo\n",
      "eM es significativo\n",
      "eF es significativo\n",
      "hrsEstudio_ini es significativo\n",
      "Residual NO es significativo\n"
     ]
    }
   ],
   "source": [
    "import statsmodels.api as sm\n",
    "from statsmodels.formula.api import ols\n",
    "from numpy import isnan\n",
    "import pandas as pd\n",
    "import ssl\n",
    "\n",
    "if getattr(ssl, '_create_unverified_context', None):\n",
    "    ssl._create_default_https_context = ssl._create_unverified_context\n",
    "o = pd.read_csv(\"https://elisa.dyndns-web.com/teaching/comp/datasci/modelar.csv\")\n",
    "x = o.loc[o.profe == 'elisa']\n",
    "datos = pd.concat([x.loc[x.CF1op >= 70], x.loc[~isnan(x.CF2op)]]) # discretas con elisa\n",
    "d = pd.DataFrame(datos, columns = [\"CF1op\", \"hrsNum\", \"eM\", \"eF\", \"inicio\", \"hrsEstudio_ini\"])\n",
    "d.hrsEstudio_ini = d.hrsEstudio_ini.replace(['3-5 h', '2-3 h', '> 5 h', '1-2 h', '< 1 h'], [1, 1, 0, 1, 0])\n",
    "d = d.dropna() \n",
    "m = ols('CF1op ~ hrsNum + eM + eF + inicio + hrsEstudio_ini', data = d).fit() \n",
    "a = sm.stats.anova_lm(m, typ = 2)\n",
    "print(a)\n",
    "n = len(a)\n",
    "alpha = 0.05\n",
    "for i in range(n):\n",
    "    print(\"{:s} {:s}es significativo\".format(a.index[i], \"\" if a['PR(>F)'][i] < alpha else \"NO \"))\n"
   ]
  },
  {
   "cell_type": "markdown",
   "metadata": {},
   "source": [
    "Con este cambio, las horas trabajadas ya no salieron significativos, pero las demás variables sí. La suma de los cuadrados de los residuales bajó un poco.\n",
    "\n",
    "Agreguemos interacciones y quitemos lo de estimado final que ya habíamos descartado sin mayor problema en la práctica anterior."
   ]
  },
  {
   "cell_type": "code",
   "execution_count": 27,
   "metadata": {},
   "outputs": [
    {
     "name": "stdout",
     "output_type": "stream",
     "text": [
      "                            sum_sq    df          F        PR(>F)\n",
      "inicio                  720.983504   1.0  14.405811  2.539910e-04\n",
      "eM                     1612.110069   1.0  32.211213  1.380498e-07\n",
      "eM:inicio               265.133377   1.0   5.297571  2.345066e-02\n",
      "hrsEstudio_ini          345.765816   1.0   6.908670  9.944474e-03\n",
      "hrsEstudio_ini:inicio     0.521996   1.0   0.010430  9.188626e-01\n",
      "eM:hrsEstudio_ini       141.540202   1.0   2.828083  9.578086e-02\n",
      "hrsNum                   46.673033   1.0   0.932564  3.365508e-01\n",
      "hrsNum:inicio            98.029537   1.0   1.958706  1.647774e-01\n",
      "eM:hrsNum                27.711955   1.0   0.553706  4.585697e-01\n",
      "Residual               4954.762024  99.0        NaN           NaN\n",
      "inicio es significativo\n",
      "eM es significativo\n",
      "eM:inicio es significativo\n",
      "hrsEstudio_ini es significativo\n",
      "hrsEstudio_ini:inicio NO es significativo\n",
      "eM:hrsEstudio_ini NO es significativo\n",
      "hrsNum NO es significativo\n",
      "hrsNum:inicio NO es significativo\n",
      "eM:hrsNum NO es significativo\n",
      "Residual NO es significativo\n"
     ]
    }
   ],
   "source": [
    "import statsmodels.api as sm\n",
    "from statsmodels.formula.api import ols\n",
    "from numpy import isnan\n",
    "import pandas as pd\n",
    "import ssl\n",
    "\n",
    "if getattr(ssl, '_create_unverified_context', None):\n",
    "    ssl._create_default_https_context = ssl._create_unverified_context\n",
    "o = pd.read_csv(\"https://elisa.dyndns-web.com/teaching/comp/datasci/modelar.csv\")\n",
    "x = o.loc[o.profe == 'elisa']\n",
    "datos = pd.concat([x.loc[x.CF1op >= 70], x.loc[~isnan(x.CF2op)]]) \n",
    "d = pd.DataFrame(datos, columns = [\"CF1op\", \"hrsNum\", \"eM\", \"eF\", \"inicio\", \"hrsEstudio_ini\"])\n",
    "d.hrsEstudio_ini = d.hrsEstudio_ini.replace(['3-5 h', '2-3 h', '> 5 h', '1-2 h', '< 1 h'], [1, 1, 0, 1, 0])\n",
    "d = d.dropna() \n",
    "m = ols('CF1op ~ eM * hrsEstudio_ini + eM * hrsNum + hrsNum * inicio + eM * inicio + hrsEstudio_ini * inicio', \\\n",
    "        data = d).fit() \n",
    "a = sm.stats.anova_lm(m, typ = 2)\n",
    "print(a)\n",
    "n = len(a)\n",
    "alpha = 0.05\n",
    "for i in range(n):\n",
    "    print(\"{:s} {:s}es significativo\".format(a.index[i], \"\" if a['PR(>F)'][i] < alpha else \"NO \"))"
   ]
  },
  {
   "cell_type": "markdown",
   "metadata": {},
   "source": [
    "No parece que haya interacciones significativas más que el estimado de medio curso con el semestre de ingreso a la facu. Vamos a graficar esto para entender qué pasa ahí. "
   ]
  },
  {
   "cell_type": "code",
   "execution_count": 51,
   "metadata": {},
   "outputs": [
    {
     "data": {
      "image/png": "[encoded data removed]",
      "text/plain": [
       "<matplotlib.figure.Figure at 0x11a24edd8>"
      ]
     },
     "metadata": {
      "needs_background": "light"
     },
     "output_type": "display_data"
    }
   ],
   "source": [
    "from numpy import isnan, nan_to_num\n",
    "import matplotlib.pyplot as plt\n",
    "import pandas as pd\n",
    "import ssl\n",
    "\n",
    "if getattr(ssl, '_create_unverified_context', None):\n",
    "    ssl._create_default_https_context = ssl._create_unverified_context\n",
    "o = pd.read_csv(\"https://elisa.dyndns-web.com/teaching/comp/datasci/modelar.csv\")\n",
    "x = o.loc[o.profe == 'elisa']\n",
    "datos = pd.concat([x.loc[x.CF1op >= 70], x.loc[~isnan(x.CF2op)]]) # discretas con elisa\n",
    "d = pd.DataFrame(datos, columns = [\"CF1op\", \"eM\", \"inicio\"])\n",
    "d = d.dropna() \n",
    "\n",
    "lvls = d.groupby(['inicio', 'eM'])\n",
    "fig, ax = plt.subplots()\n",
    "col = ['b', 'g']\n",
    "means = dict()\n",
    "stddevs = dict()\n",
    "lbls = []\n",
    "for (sem, est), datos in lvls:\n",
    "    if sem not in means:\n",
    "        means[sem] = dict()\n",
    "        stddevs[sem] = dict()\n",
    "    if est not in lbls:\n",
    "        lbls.append(est)\n",
    "    means[sem][est] = datos.CF1op.mean()\n",
    "    stddevs[sem][est] = datos.CF1op.std()\n",
    "n = len(lbls)\n",
    "i = 0\n",
    "for sem in means:\n",
    "    m = [means[sem][est] for est in lbls]\n",
    "    sd = [stddevs[sem][est] for est in lbls]\n",
    "    pos = [j + i * bw for j in range(n)]\n",
    "    ax.bar(pos, m, bw, alpha = 0.5, color = col.pop(0), yerr = sd, \\\n",
    "           error_kw = {'ecolor': '0.3'}, label = sem)\n",
    "    i += 1\n",
    "ax.set_xlabel('Estimado a medio curso')\n",
    "ax.set_ylabel('Calificación de primera oportunidad')\n",
    "ax.set_xticks([i + bw / 2 for i in range(n)])\n",
    "ax.set_xticklabels(['{:.0f}'.format(e) for e in means['enero'].keys()])\n",
    "ax.legend()\n",
    "fig.tight_layout()\n",
    "plt.show()"
   ]
  },
  {
   "cell_type": "markdown",
   "metadata": {},
   "source": [
    "Pues, sí, parecen afectar ambos factores por si sólo y el ANOVA también nos dice que interactúan: para los de agosto (azules), el pendiente de cómo sube la calificación obtenida en función de la calificación esperada es notable más fuerte que para los de enero (verdes). La curva para los azules parece lineal, mientras la de los verdes estanca entre 85 y 95.\n",
    "\n",
    "Hagamos un ANOVA también con los estimados de los exámenes de la práctica anterior:"
   ]
  },
  {
   "cell_type": "code",
   "execution_count": 52,
   "metadata": {},
   "outputs": [
    {
     "name": "stdout",
     "output_type": "stream",
     "text": [
      "               sum_sq    df          F    PR(>F)\n",
      "tiempo       1.025184   1.0   0.076914  0.782257\n",
      "entrando    49.102702   1.0   3.683917  0.058597\n",
      "leidos     279.603339   1.0  20.977165  0.000017\n",
      "saliendo    50.558200   1.0   3.793115  0.055062\n",
      "Residual  1039.657216  78.0        NaN       NaN\n",
      "tiempo NO es significativo\n",
      "entrando NO es significativo\n",
      "leidos es significativo\n",
      "saliendo NO es significativo\n",
      "Residual NO es significativo\n"
     ]
    }
   ],
   "source": [
    "from statsmodels.formula.api import ols\n",
    "import statsmodels.api as sm\n",
    "from numpy import isnan\n",
    "import pandas as pd\n",
    "import ssl\n",
    "\n",
    "if getattr(ssl, '_create_unverified_context', None):\n",
    "    ssl._create_default_https_context = ssl._create_unverified_context\n",
    "d = pd.read_csv(\"https://elisa.dyndns-web.com/teaching/comp/datasci/est.csv\", sep = \" \", header = None)\n",
    "d.columns = ['puntos', 'tiempo', 'entrando', 'leidos', 'saliendo']\n",
    "m = ols('puntos ~ tiempo + entrando + leidos + saliendo', data = d).fit() \n",
    "a = sm.stats.anova_lm(m, typ = 2)\n",
    "print(a)\n",
    "n = len(a)\n",
    "alpha = 0.05\n",
    "for i in range(n):\n",
    "    print(\"{:s} {:s}es significativo\".format(a.index[i], \"\" if a['PR(>F)'][i] < alpha else \"NO \"))"
   ]
  },
  {
   "cell_type": "markdown",
   "metadata": {},
   "source": [
    "Lo único significativo, sin interacciones, sigue siendo el estimado después de haber leído las preguntas. Chequemos por interacciones."
   ]
  },
  {
   "cell_type": "code",
   "execution_count": 54,
   "metadata": {},
   "outputs": [
    {
     "name": "stdout",
     "output_type": "stream",
     "text": [
      "                      sum_sq    df          F    PR(>F)\n",
      "leidos            279.603339   1.0  20.411702  0.000023\n",
      "entrando           52.230638   1.0   3.812960  0.054589\n",
      "leidos:entrando     0.186162   1.0   0.013590  0.907507\n",
      "tiempo              0.047433   1.0   0.003463  0.953232\n",
      "tiempo:leidos       2.769468   1.0   0.202178  0.654266\n",
      "saliendo           40.041140   1.0   2.923097  0.091455\n",
      "leidos:saliendo     6.205129   1.0   0.452989  0.502988\n",
      "Residual         1027.364137  75.0        NaN       NaN\n",
      "leidos es significativo\n",
      "entrando NO es significativo\n",
      "leidos:entrando NO es significativo\n",
      "tiempo NO es significativo\n",
      "tiempo:leidos NO es significativo\n",
      "saliendo NO es significativo\n",
      "leidos:saliendo NO es significativo\n",
      "Residual NO es significativo\n"
     ]
    }
   ],
   "source": [
    "from statsmodels.formula.api import ols\n",
    "import statsmodels.api as sm\n",
    "from numpy import isnan\n",
    "import pandas as pd\n",
    "import ssl\n",
    "\n",
    "if getattr(ssl, '_create_unverified_context', None):\n",
    "    ssl._create_default_https_context = ssl._create_unverified_context\n",
    "d = pd.read_csv(\"https://elisa.dyndns-web.com/teaching/comp/datasci/est.csv\", sep = \" \", header = None)\n",
    "d.columns = ['puntos', 'tiempo', 'entrando', 'leidos', 'saliendo']\n",
    "m = ols('puntos ~ leidos * entrando + tiempo * leidos + leidos * saliendo', data = d).fit() \n",
    "a = sm.stats.anova_lm(m, typ = 2)\n",
    "print(a)\n",
    "n = len(a)\n",
    "alpha = 0.05\n",
    "for i in range(n):\n",
    "    print(\"{:s} {:s}es significativo\".format(a.index[i], \"\" if a['PR(>F)'][i] < alpha else \"NO \"))"
   ]
  },
  {
   "cell_type": "markdown",
   "metadata": {},
   "source": [
    "No, nada ahí. Se podrían usar estos datos para llevar a cabo un MANOVA para modelar *ambos* el tiempo que están en el salón y los puntos que sacan en términos de los tres estimados, más que está incompleta y parcialmente documentada la implementación actual... "
   ]
  },
  {
   "cell_type": "code",
   "execution_count": 61,
   "metadata": {},
   "outputs": [
    {
     "name": "stdout",
     "output_type": "stream",
     "text": [
      "aún no existe la implementación\n"
     ]
    }
   ],
   "source": [
    "import statsmodels as sm\n",
    "from numpy import isnan, asarray\n",
    "import pandas as pd\n",
    "import ssl\n",
    "\n",
    "if getattr(ssl, '_create_unverified_context', None):\n",
    "    ssl._create_default_https_context = ssl._create_unverified_context\n",
    "d = pd.read_csv(\"https://elisa.dyndns-web.com/teaching/comp/datasci/est.csv\", sep = \" \", header = None)\n",
    "d.columns = ['puntos', 'tiempo', 'entrando', 'leidos', 'saliendo']\n",
    "y = pd.DataFrame(d, columns = ['puntos', 'tiempo'])\n",
    "x = pd.DataFrame(d, columns = ['entrando', 'leidos', 'saliendo'])\n",
    "m = sm.multivariate.manova.MANOVA(y, x)\n",
    "try:\n",
    "    m.fit()\n",
    "except NotImplementedError:\n",
    "    print('aún no existe la implementación')\n"
   ]
  },
  {
   "cell_type": "markdown",
   "metadata": {},
   "source": [
    "El __[análisis de componentes principales (PCA)](https://towardsdatascience.com/pca-using-python-scikit-learn-e653f8989e60__) sirve para reducir múltiples variable de entrada en una menor cantidad de variables para modelar la variable de interés. Funciona con datos numéricos que primero de normalizan (escalan todos a un mismo rango) y luego se proyectan a una dimensión deseada.\n",
    "* Primero nos deshacemos de las columnas que no conviene codificar con números.\n",
    "* Luego categorizamos las que sí convienen.\n",
    "* Las reemplazamos con los números de las categorias.\n",
    "* Estandrizamos rangos.\n",
    "* Probamos reducción proyectando los datos a dos dimensiones.\n",
    "* Visualizamos el resultado."
   ]
  },
  {
   "cell_type": "code",
   "execution_count": 105,
   "metadata": {},
   "outputs": [
    {
     "name": "stdout",
     "output_type": "stream",
     "text": [
      "Qué tenemos\n",
      "Index(['Unnamed: 0', 'Unnamed: 0.1', 'profe', 'grupo', 'sem', 'PE', 'CF1op',\n",
      "       'CF2op', 'ingreso', 'inicio', 'hrsNum', 'sabePromedio', 'sabeCreditos',\n",
      "       'sabeHoras', 'sabeAmbos', 'noSabeCreditos', 'noSabeHoras',\n",
      "       'noSabeNinguno', 'eI', 'eM', 'eF', 'fueAses', 'temas', 'cuantasTemas',\n",
      "       'formasApoyo', 'cuantosMedios', 'hrsEstudio_ini', 'hrsEstudio_mcu',\n",
      "       'hrsEstudio', 'sIng'],\n",
      "      dtype='object')\n",
      "Con qué nos quedamos\n",
      "Qué categorizamos tal cual\n",
      "Qué codificamos manualmente para mantener un crecimiento\n",
      "[ 1  2  0 -1] int8\n",
      "[3 1 0 2] int8\n",
      "[ 1  2  0 -1] int8\n",
      "[  84.   73.   70.   76.   74.   71.   72.   80.   91.   94.   87.   78.\n",
      "   75.   79.   77.   95.  100.   92.   93.   83.   85.   82.   81.   97.\n",
      "   88.   89.   90.   86.   52.   68.   61.   62.   34.   60.   63.   65.\n",
      "   43.   59.   50.   57.   69.   67.   56.   64.   58.   54.   66.   51.] float64\n",
      "[ nan  72.  71.  77.  74.  46.  56.  73.  66.  76.  67.  78.  80.  70.  65.\n",
      "  79.  75.  63.  82.  68.  62.] float64\n",
      "[0 1] int8\n",
      "[  0.  50.   5.  15.  30.] float64\n",
      "[1 0] int8\n",
      "[1 0] int8\n",
      "[0 1] int8\n",
      "[0 1] int8\n",
      "[0 1] int8\n",
      "[1 0] int8\n",
      "[0 1] int8\n",
      "[ 85.  95.  75.  nan] float64\n",
      "[ 75.  nan  85.  95.  50.] float64\n",
      "[ 85.  75.  50.  nan  95.  20.] float64\n",
      "[ 0 -1  1] int8\n",
      "[ 3  6  4  2  0  8  1  5  7  9 11 10] int64\n",
      "[3 2 0 5 1 4 7 6] int64\n",
      "[ 4  2  5  6  3  0  9  1  7  8 10] int64\n",
      "[ 4.   2.5  7.   1.5  0.   0.5] float64\n",
      "[ 0.5  0.   1.5  4.   7.   2.5] float64\n",
      "[ 2.5  1.5  7.   0.   4.   0.5] float64\n"
     ]
    },
    {
     "data": {
      "text/html": [
       "<div>\n",
       "<style scoped>\n",
       "    .dataframe tbody tr th:only-of-type {\n",
       "        vertical-align: middle;\n",
       "    }\n",
       "\n",
       "    .dataframe tbody tr th {\n",
       "        vertical-align: top;\n",
       "    }\n",
       "\n",
       "    .dataframe thead th {\n",
       "        text-align: right;\n",
       "    }\n",
       "</style>\n",
       "<table border=\"1\" class=\"dataframe\">\n",
       "  <thead>\n",
       "    <tr style=\"text-align: right;\">\n",
       "      <th></th>\n",
       "      <th>comp_0</th>\n",
       "      <th>comp_1</th>\n",
       "      <th>CF1op</th>\n",
       "      <th>CF2op</th>\n",
       "    </tr>\n",
       "  </thead>\n",
       "  <tbody>\n",
       "    <tr>\n",
       "      <th>0</th>\n",
       "      <td>-0.333317</td>\n",
       "      <td>0.449117</td>\n",
       "      <td>84.0</td>\n",
       "      <td>0.0</td>\n",
       "    </tr>\n",
       "    <tr>\n",
       "      <th>1</th>\n",
       "      <td>1.422099</td>\n",
       "      <td>2.895988</td>\n",
       "      <td>70.0</td>\n",
       "      <td>0.0</td>\n",
       "    </tr>\n",
       "    <tr>\n",
       "      <th>2</th>\n",
       "      <td>-0.634262</td>\n",
       "      <td>-1.371485</td>\n",
       "      <td>76.0</td>\n",
       "      <td>0.0</td>\n",
       "    </tr>\n",
       "    <tr>\n",
       "      <th>3</th>\n",
       "      <td>0.852301</td>\n",
       "      <td>-1.487361</td>\n",
       "      <td>74.0</td>\n",
       "      <td>0.0</td>\n",
       "    </tr>\n",
       "    <tr>\n",
       "      <th>4</th>\n",
       "      <td>-2.600958</td>\n",
       "      <td>-0.203493</td>\n",
       "      <td>80.0</td>\n",
       "      <td>0.0</td>\n",
       "    </tr>\n",
       "    <tr>\n",
       "      <th>5</th>\n",
       "      <td>1.597327</td>\n",
       "      <td>-0.808490</td>\n",
       "      <td>80.0</td>\n",
       "      <td>0.0</td>\n",
       "    </tr>\n",
       "    <tr>\n",
       "      <th>6</th>\n",
       "      <td>-0.195075</td>\n",
       "      <td>-1.961620</td>\n",
       "      <td>80.0</td>\n",
       "      <td>0.0</td>\n",
       "    </tr>\n",
       "    <tr>\n",
       "      <th>7</th>\n",
       "      <td>-0.245727</td>\n",
       "      <td>-2.902387</td>\n",
       "      <td>91.0</td>\n",
       "      <td>0.0</td>\n",
       "    </tr>\n",
       "    <tr>\n",
       "      <th>8</th>\n",
       "      <td>-0.072629</td>\n",
       "      <td>1.180331</td>\n",
       "      <td>74.0</td>\n",
       "      <td>0.0</td>\n",
       "    </tr>\n",
       "    <tr>\n",
       "      <th>9</th>\n",
       "      <td>-2.365146</td>\n",
       "      <td>-2.405189</td>\n",
       "      <td>94.0</td>\n",
       "      <td>0.0</td>\n",
       "    </tr>\n",
       "  </tbody>\n",
       "</table>\n",
       "</div>"
      ],
      "text/plain": [
       "     comp_0    comp_1  CF1op  CF2op\n",
       "0 -0.333317  0.449117   84.0    0.0\n",
       "1  1.422099  2.895988   70.0    0.0\n",
       "2 -0.634262 -1.371485   76.0    0.0\n",
       "3  0.852301 -1.487361   74.0    0.0\n",
       "4 -2.600958 -0.203493   80.0    0.0\n",
       "5  1.597327 -0.808490   80.0    0.0\n",
       "6 -0.195075 -1.961620   80.0    0.0\n",
       "7 -0.245727 -2.902387   91.0    0.0\n",
       "8 -0.072629  1.180331   74.0    0.0\n",
       "9 -2.365146 -2.405189   94.0    0.0"
      ]
     },
     "metadata": {},
     "output_type": "display_data"
    }
   ],
   "source": [
    "import ssl\n",
    "import pandas as pd\n",
    "from numpy import isnan, nan\n",
    "from sklearn.decomposition import PCA\n",
    "from sklearn.preprocessing import StandardScaler\n",
    "                                                                                                                  \n",
    "if getattr(ssl, '_create_unverified_context', None):\n",
    "    ssl._create_default_https_context = ssl._create_unverified_context\n",
    "o = pd.read_csv(\"https://elisa.dyndns-web.com/teaching/comp/datasci/modelar.csv\")\n",
    "e = o.loc[o.profe == 'elisa']\n",
    "d = pd.concat([e.loc[e.CF1op >= 70], e.loc[~isnan(e.CF2op)]])\n",
    "print('Qué tenemos')\n",
    "print(d.columns)\n",
    "d = d.drop(['Unnamed: 0', 'Unnamed: 0.1', 'profe', 'ingreso', 'temas', 'sIng'], 1)\n",
    "print('Con qué nos quedamos')\n",
    "print('Qué categorizamos tal cual')\n",
    "for c in ['grupo', 'sem', 'PE', 'inicio', 'fueAses', \\\n",
    "         'sabePromedio', 'sabeCreditos', 'sabeHoras', 'sabeAmbos', \\\n",
    "         'noSabeCreditos', 'noSabeHoras', 'noSabeNinguno']:\n",
    "    cat = pd.Categorical(d[c])\n",
    "    d[c] = cat.codes\n",
    "print('Qué codificamos manualmente para mantener un crecimiento')\n",
    "viejos = ['3-5 h', '2-3 h', '> 5 h', '1-2 h', '< 1 h', 'Nada', nan]\n",
    "nuevos = [4, 2.5, 7, 1.5, 0.5, 0, 0]\n",
    "for c in ['hrsEstudio_ini', 'hrsEstudio_mcu', 'hrsEstudio']:      \n",
    "    d[c] = d[c].replace(viejos, nuevos) \n",
    "d.hrsNum = d.hrsNum.replace(nan, 0) # supongamos que los que no respondieron, no trabajan\n",
    "for c in d.columns:\n",
    "    print(d[c].unique(), d[c].dtype)   \n",
    "xVars = ['grupo', 'sem', 'PE', 'inicio', 'hrsNum', \\\n",
    "         'eI', 'eM', 'eF','fueAses', 'cuantasTemas', 'formasApoyo', 'cuantosMedios', \\\n",
    "         'hrsEstudio_ini', 'hrsEstudio_mcu', 'hrsEstudio']\n",
    "d.CF2op = d.CF2op.replace(nan, 0) # para no perder a los que pasaron en primera\n",
    "d = d.dropna() # podemos únicamente usar los renglones que contienen todas las respuestas\n",
    "x = d.loc[:, xVars].values\n",
    "x = StandardScaler().fit_transform(x)\n",
    "y1 = d.loc[:,['CF1op']].values\n",
    "y2 = d.loc[:,['CF2op']].values\n",
    "k = 2 # dimensiones deseadas\n",
    "pca = PCA(n_components = k)\n",
    "cd = pd.DataFrame(data = pca.fit_transform(x), columns = ['comp_{:d}'.format(i) for i in range(k)])\n",
    "cd['CF1op'] = y1\n",
    "cd['CF2op'] = y2\n",
    "ordenado = pd.DataFrame.sort_values(cd, ['CF1op'], ascending = False)\n",
    "display(cd.head(10))\n",
    "cd.to_csv('pca_2d.csv')"
   ]
  },
  {
   "cell_type": "code",
   "execution_count": 106,
   "metadata": {},
   "outputs": [
    {
     "data": {
      "image/png": "[encoded data removed]",
      "text/plain": [
       "<matplotlib.figure.Figure at 0x11c94dda0>"
      ]
     },
     "metadata": {
      "needs_background": "light"
     },
     "output_type": "display_data"
    }
   ],
   "source": [
    "import ssl\n",
    "import pandas as pd\n",
    "import matplotlib.pyplot as plt\n",
    "                                                                                                                  \n",
    "if getattr(ssl, '_create_unverified_context', None):\n",
    "    ssl._create_default_https_context = ssl._create_unverified_context\n",
    "d = pd.read_csv('https://elisa.dyndns-web.com/teaching/comp/datasci/pca_2d.csv')\n",
    "\n",
    "n = len(d)\n",
    "pri = d.CF1op >= 70\n",
    "seg = d.CF2op >= 70\n",
    "ter = ~ (pri | seg)\n",
    "assert n == sum(pri) + sum(seg) + sum(ter)\n",
    "\n",
    "plt.title('PCA bidimensional', fontsize = 20)\n",
    "plt.xlabel('Primer componente', fontsize = 15)\n",
    "plt.ylabel('Segundo componente', fontsize = 15)\n",
    "plt.scatter(d.loc[pri].comp_0, d.loc[pri].comp_1, c = 'g', s = 50)\n",
    "plt.scatter(d.loc[seg].comp_0, d.loc[seg].comp_1, c = 'b', s = 50)\n",
    "plt.scatter(d.loc[ter].comp_0, d.loc[ter].comp_1, c = 'r', s = 50)\n",
    "plt.legend(['Primera', 'Segunda', 'Tercera'])\n",
    "plt.grid()"
   ]
  },
  {
   "cell_type": "markdown",
   "metadata": {},
   "source": [
    "Con esta información disponible, en dos dimensiones, no se separan los tres casos de alumnos (pasaron en primera, pasaron en segunda o no pasaron durante el semestre) de ninguna forma clara.\n",
    "\n",
    "Regresaremos al tema de agrupamientos y clasificaciones en prácticas futuras.\n",
    "\n",
    "En el octavo reporte, lleva a cabo por lo menos un ANOVA y un PCA con tus datos, visualizando y discutiendo los resultados de los dos."
   ]
  }
 ],
 "metadata": {
  "kernelspec": {
   "display_name": "Python 3",
   "language": "python",
   "name": "python3"
  },
  "language_info": {
   "codemirror_mode": {
    "name": "ipython",
    "version": 3
   },
   "file_extension": ".py",
   "mimetype": "text/x-python",
   "name": "python",
   "nbconvert_exporter": "python",
   "pygments_lexer": "ipython3",
   "version": "3.6.2"
  }
 },
 "nbformat": 4,
 "nbformat_minor": 2
}
