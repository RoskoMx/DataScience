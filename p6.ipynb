{
 "cells": [
  {
   "cell_type": "markdown",
   "metadata": {},
   "source": [
    "**Práctica 6: Modelos lineales con scipy.stats**\n",
    "\n",
    "Modelos lineales son para representar una variable de interés como una función de uno o más factores conocidos de tal forma que se maximice la proporción de variación explicada por el modelo. \n",
    "\n",
    "Ya que la mayor cantidad de información disponible en el estudio de caso ejemplo son de alumnos de Elisa de primera oportunidad y esa distribución parece bimodal, antes de intentar construir semejantes modelos, habrá que intentar a separar las dos poblaciones que causan el comportamiento bimodal. Además convendrá repetir las pruebas estadísticas y algunas de las visualizaciones de las prácticas anteriores para la población hipotética A de \"alumnos que sí se esfuerzan\" una vez que han sido separadas de la segunda población hipotética B de \"alumnos que no le echan nada de ganas\".\n",
    "\n",
    "Como un primer intento, asignemos todos los alumnos que no tenían derecho a segunda oportunidad en la población B y vemos cómo queda la distribución de calificaciones de primera oportunidad entre los alumnos restantes, ahora trabajando solamente con alumnos de Elisa ya que sabemos que provienen de otra distribución las calificaciones de Moisés (por ser otra unidad de aprendizaje, otro maestro y diferentes programas educativos).\n",
    "\n",
    "Ya que se han hecho agregaciones y limpiezas a los datos en prácticas anteriores, mejor primero crear un archivo nuevo CSV con la versión mejorada. "
   ]
  },
  {
   "cell_type": "code",
   "execution_count": null,
   "metadata": {},
   "outputs": [],
   "source": [
    "import pandas as pd\n",
    "from numpy import NaN\n",
    "\n",
    "d = pd.read_csv(\"graficar.csv\")\n",
    "d['aIng'] = [NaN if v == 'nan' else '20' + v if int(v) < 20 else '19' + v for v in [str(v) for v in tmp]]\n",
    "d['sIng'] = [NaN if v == 'nan' else v[:2] for v in [str(v) for v in d.ingreso]]\n",
    "d['saIng'] = [NaN if x is NaN else int(x) + (0.1 if y == \"AD\" else 0.2) for x, y in zip(d.aIng, d.sIng)]\n",
    "d.hrsEstudio_ini = d.hrsEstudio_ini.replace(\"Menos de una hora\", \"< 1 h\")\n",
    "d.hrsEstudio_ini = d.hrsEstudio_ini.replace(\"Entre 1 y 2 horas\", \"1-2 h\")\n",
    "d.hrsEstudio_ini = d.hrsEstudio_ini.replace(\"Entre 2 y 3 horas\", \"2-3 h\")\n",
    "d.hrsEstudio_ini = d.hrsEstudio_ini.replace(\"Entre 3 y 5 horas\", \"3-5 h\")\n",
    "d.hrsEstudio_ini = d.hrsEstudio_ini.replace(\"Más de 5 horas\", \"> 5 h\")\n",
    "d.hrsEstudio_mcu = d.hrsEstudio_mcu.replace(\"Una hora o menos\", \"< 1 h\")\n",
    "d.hrsEstudio_mcu = d.hrsEstudio_mcu.replace(\"Menos de una hora\", \"< 1 h\")\n",
    "d.hrsEstudio_mcu = d.hrsEstudio_mcu.replace(\"Entre una y dos horas\", \"1-2 h\")\n",
    "d.hrsEstudio_mcu = d.hrsEstudio_mcu.replace(\"Entre dos y tres horas\", \"2-3 h\")\n",
    "d.hrsEstudio_mcu = d.hrsEstudio_mcu.replace(\"Entre tres y cinco horas\", \"3-5 h\")\n",
    "d.hrsEstudio_mcu = d.hrsEstudio_mcu.replace(\"Más de cinco horas\", \"> 5 h\")\n",
    "d.hrsEstudio = d.hrsEstudio.replace(\"Menos de una hora\", \"< 1 h\")\n",
    "d.hrsEstudio = d.hrsEstudio.replace(\"Entre una y dos horas\", \"1-2 h\")\n",
    "d.hrsEstudio = d.hrsEstudio.replace(\"Entre dos y tres horas\", \"2-3 h\")\n",
    "d.hrsEstudio = d.hrsEstudio.replace(\"Entre tres y cinco horas\", \"3-5 h\")\n",
    "d.hrsEstudio = d.hrsEstudio.replace(\"Más de cinco horas\", \"> 5 h\")\n",
    "d.to_csv(\"modelar.csv\")"
   ]
  },
  {
   "cell_type": "markdown",
   "metadata": {},
   "source": [
    "Poniendo el archivo resultante en el servidor web, podemos nuevamente escribir códigos que se ejecutarán en jupyter sin bronca.\n",
    "\n",
    "Luego filtramos que \n",
    "* sean puros alumnos de Elisa\n",
    "* tengan calificación aprobatoria en primera oportunidad o calificación numérica en segunda oportunidad\n",
    "y checamos si ahora tenemos algo que se comporte de manera normalmente distribuida."
   ]
  },
  {
   "cell_type": "code",
   "execution_count": 83,
   "metadata": {},
   "outputs": [
    {
     "name": "stdout",
     "output_type": "stream",
     "text": [
      "579\n",
      "466\n",
      "203\n",
      "62\n",
      "265\n",
      "0.977020263671875 0.0002801140653900802 0.05 no normal\n",
      "0.977020263671875 0.0002801140653900802 0.01 no normal\n"
     ]
    },
    {
     "data": {
      "image/png": "[encoded data removed]",
      "text/plain": [
       "<matplotlib.figure.Figure at 0x117eb3b00>"
      ]
     },
     "metadata": {
      "needs_background": "light"
     },
     "output_type": "display_data"
    }
   ],
   "source": [
    "import pandas as pd\n",
    "from numpy import isnan\n",
    "from statsmodels.graphics.gofplots import qqplot\n",
    "import matplotlib.pyplot as plt\n",
    "from scipy.stats import shapiro\n",
    "import ssl\n",
    "\n",
    "if getattr(ssl, '_create_unverified_context', None):\n",
    "    ssl._create_default_https_context = ssl._create_unverified_context\n",
    "d = pd.read_csv(\"https://elisa.dyndns-web.com/teaching/comp/datasci/modelar.csv\")\n",
    "print(len(d))\n",
    "e = d.loc[d.profe == 'elisa'] # filtramos los de elisa  \n",
    "print(len(e))\n",
    "d1 = e.loc[e.CF1op >= 70]\n",
    "print(len(d1))\n",
    "d2 = e.loc[~isnan(e.CF2op)]\n",
    "print(len(d2))\n",
    "m = pd.concat([d1, d2])\n",
    "print(len(m))\n",
    "d = m.CF1op.dropna()\n",
    "f, ax = plt.subplots(1, 2)\n",
    "qqplot(d, line='s', ax = ax[0])\n",
    "ax[1] = plt.hist(d)\n",
    "for a in [0.05, 0.01]:\n",
    "    s, p = shapiro(d)\n",
    "    print(s, p, a, \"normal\" if p > a else \"no normal\")\n",
    "plt.show()"
   ]
  },
  {
   "cell_type": "markdown",
   "metadata": {},
   "source": [
    "Las figuras (producidas al ejecutar el bloque de código anterior) muestran que hemos mejorado la normalidad con esta primera versión de población A, pero aún hay ruido: la cola izquierda está más larga que la derecha. \n",
    "Los alumnos que sí tienen *derecho* a segunda oportunidad, pero la aprovechan, aparecen como NP en segunda, por lo cual no pueden ser la causa porque ya han sido eliminados de la población A. \n",
    "\n",
    "Una explicación potencial aquí es que 100 es un corte que se ha impuesto a las calificaciones: población A probablemente contiene alumnos que sacarían más de cien, es decir, participando en actividades puntos extra aún cuando su calificación ya es muy alta. \n",
    "\n",
    "Vamos a ver qué les pasa a las demás pruebas estadísticas de la práctica 5 y a las correlaciones que se calcularon en la práctica 3 si nos limitamos a esta población A. "
   ]
  },
  {
   "cell_type": "code",
   "execution_count": 17,
   "metadata": {},
   "outputs": [
    {
     "name": "stdout",
     "output_type": "stream",
     "text": [
      "estimado inicial: antes 0.195781365919 después 0.279413247137\n",
      "estimado a la mitad: antes 0.488145928468 después 0.527665833038\n",
      "estimado final: antes 0.462213304941 después 0.468392736584\n"
     ]
    }
   ],
   "source": [
    "import pandas as pd\n",
    "import ssl\n",
    "\n",
    "if getattr(ssl, '_create_unverified_context', None):\n",
    "    ssl._create_default_https_context = ssl._create_unverified_context\n",
    "o = pd.read_csv(\"https://elisa.dyndns-web.com/teaching/comp/datasci/modelar.csv\")\n",
    "e = o.loc[o.profe == 'elisa']\n",
    "m = pd.concat([e.loc[e.CF1op >= 70], e.loc[~isnan(e.CF2op)]])\n",
    "\n",
    "print(\"estimado inicial: antes\", o.CF1op.corr(o.eI), \"después\", m.CF1op.corr(m.eI))\n",
    "print(\"estimado a la mitad: antes\", o.CF1op.corr(o.eM), \"después\", m.CF1op.corr(m.eM))\n",
    "print(\"estimado final: antes\", o.CF1op.corr(o.eF), \"después\", m.CF1op.corr(m.eF))"
   ]
  },
  {
   "cell_type": "markdown",
   "metadata": {},
   "source": [
    "Todas subieron. ¿Y las demás pruebas de la práctica 5? Vamos a ver si hay diferencia entre los tres grupos de Elisa:\n",
    "* M4-6 en el salón 4208\n",
    "* V1-3 en el salón 4204\n",
    "* V4-6 en el salón 4200"
   ]
  },
  {
   "cell_type": "code",
   "execution_count": 20,
   "metadata": {},
   "outputs": [
    {
     "name": "stdout",
     "output_type": "stream",
     "text": [
      "69 68 75\n",
      "True\n",
      "True\n",
      "True\n",
      "diferentes para segundas\n",
      "diferentes para ini_vs_mcu\n",
      "iguales para mcu_vs_ord\n",
      "diferentes para ini_vs_orc\n",
      "hay diferencia para sem de ingreso\n",
      "hay diferencia para hrs de trabajo\n",
      "sin diferencia para sabe cr\n",
      "sin diferencia para sabe hrs\n",
      "sin diferencia para sabe ambos\n",
      "sin diferencia para sabe prom\n",
      "sin diferencia para fue a asesorias\n",
      "hay diferencia para estudio ini\n",
      "sin diferencia para estudio mcu\n",
      "insufientes datos para estudio ord\n"
     ]
    }
   ],
   "source": [
    "import pandas as pd\n",
    "from scipy.stats import shapiro, mannwhitneyu, wilcoxon,  kruskal\n",
    "import ssl\n",
    "\n",
    "def prueba(d1, d2, a = 0.05, k = 20):\n",
    "    if min(len(d1), len(d2)) < k:\n",
    "        return None # no se puede concluir nada con tan pocos datos                                                                                                                               \n",
    "    else:\n",
    "        return mannwhitneyu(d1, d2)[1] > a # True si es la misma distribución                                                                                                                     \n",
    "\n",
    "if getattr(ssl, '_create_unverified_context', None):\n",
    "    ssl._create_default_https_context = ssl._create_unverified_context\n",
    "o = pd.read_csv(\"https://elisa.dyndns-web.com/teaching/comp/datasci/modelar.csv\")\n",
    "e = o.loc[o.profe == 'elisa']\n",
    "m = pd.concat([e.loc[e.CF1op >= 70], e.loc[~isnan(e.CF2op)]])\n",
    "\n",
    "grupos = [g[1].CF1op.dropna() for g in m.groupby(['grupo'])]\n",
    "print(' '.join([str(len(g)) for g in grupos]))\n",
    "print(prueba(grupos[0], grupos[1]))\n",
    "print(prueba(grupos[0], grupos[2]))\n",
    "print(prueba(grupos[1], grupos[2]))\n",
    "\n",
    "pares = dict()\n",
    "x = m.loc[~isnan(m.CF1op) & ~isnan(m.CF2op)]\n",
    "pares['segundas'] = (x.CF1op, x.CF2op)\n",
    "x = m.loc[~isnan(m.eI) & ~isnan(m.eM)]\n",
    "pares['ini_vs_mcu'] = (x.eI, x.eM)\n",
    "x = m.loc[~isnan(m.eM) & ~isnan(m.eF)]\n",
    "pares['mcu_vs_ord'] = (x.eM, x.eF)\n",
    "x = m.loc[~isnan(m.eI) & ~isnan(m.eF)]\n",
    "pares['ini_vs_ord'] = (x.eI, x.eF)\n",
    "a = 0.05 # hemos reducido los datos, mejor quedarnos con alpha de cinco porciento                                                                                                                 \n",
    "for d in pares:\n",
    "    (d1, d2) = pares[d]\n",
    "    print('datos insuficientes' if min(len(d1), len(d2)) < 20 else \\\n",
    "          \"iguales\" if wilcoxon(d1, d2)[1] > a else \"diferentes\", \"para\", d)\n",
    "    \n",
    "niv = {'sem de ingreso': [g[1].CF1op.dropna() for g in m.groupby(['inicio'])], \\\n",
    "       'hrs de trabajo':  [g[1].CF1op.dropna() for g in m.groupby(['hrsNum'])], \\\n",
    "       'sabe cr':  [g[1].CF1op.dropna() for g in m.groupby(['sabeCreditos'])], \\\n",
    "       'sabe hrs': [g[1].CF1op.dropna() for g in m.groupby(['sabeHoras'])], \\\n",
    "       'sabe ambos': [g[1].CF1op.dropna() for g in m.groupby(['sabeAmbos'])], \\\n",
    "       'sabe prom': [g[1].CF1op.dropna() for g in m.groupby(['sabePromedio'])], \\\n",
    "       'fue a asesorias': [g[1].CF1op.dropna() for g in m.groupby(['fueAses'])], \\\n",
    "       'estudio ini': [g[1].CF1op.dropna() for g in m.groupby(['hrsEstudio_ini'])], \\\n",
    "       'estudio mcu': [g[1].CF1op.dropna() for g in m.groupby(['hrsEstudio_mcu'])], \\\n",
    "       'estudio ord': [g[1].CF1op.dropna() for g in m.groupby(['hrsEstudio'])]}\n",
    "print('\\n'.join([(\"insufientes datos\" if min([len(x) for x in niv[d]]) < 5 else \\\n",
    "                  \"sin diferencia\" if kruskal(*niv[d])[1] > a else \"hay diferencia\") +  \\\n",
    "                 \" para \" +  d for d in niv]))"
   ]
  },
  {
   "cell_type": "markdown",
   "metadata": {},
   "source": [
    "No hay diferencia estadísticamente significativa entre los tres combos hora-salón, calificaciones siguen cambiando entre 1ra y 2da para la población A, la califación espera sigue estancando entre la segunda y la tercera encuesta.\n",
    "\n",
    "Ahora, en la población A, el semestre de ingreso *sí* afecta, igual como las horas trabajadas.\n",
    "\n",
    "El sí o no saben definiciones de créditos no tiene efecto, igual como las asesorías.\n",
    "\n",
    "El plan inicial de cuánto van a estudiar sí tiene efecto, mientras las horas de estudio reportadas a mitad del semestre no. Vamos a examinar lo de la última encuesta para lograr un resultado ahí, combinando aquel factor que tiene menos de cinco respuestas con la más cercana:"
   ]
  },
  {
   "cell_type": "code",
   "execution_count": 22,
   "metadata": {},
   "outputs": [
    {
     "name": "stdout",
     "output_type": "stream",
     "text": [
      "1-2 h    101\n",
      "2-3 h     39\n",
      "3-5 h     39\n",
      "> 5 h     16\n",
      "Nada       7\n",
      "< 1 h      4\n",
      "Name: hrsEstudio, dtype: int64\n",
      "< 2 h    105\n",
      "2-3 h     39\n",
      "3-5 h     39\n",
      "> 5 h     16\n",
      "Nada       7\n",
      "Name: hrsEstudio, dtype: int64\n",
      "sin dif\n"
     ]
    }
   ],
   "source": [
    "import pandas as pd\n",
    "from scipy.stats import kruskal\n",
    "import ssl\n",
    "\n",
    "def prueba(d1, d2, a = 0.05, k = 20):\n",
    "    if min(len(d1), len(d2)) < k:\n",
    "        return None # no se puede concluir nada con tan pocos datos                                                                                                                               \n",
    "    else:\n",
    "        return mannwhitneyu(d1, d2)[1] > a # True si es la misma distribución                                                                                                                     \n",
    "\n",
    "if getattr(ssl, '_create_unverified_context', None):\n",
    "    ssl._create_default_https_context = ssl._create_unverified_context\n",
    "o = pd.read_csv(\"https://elisa.dyndns-web.com/teaching/comp/datasci/modelar.csv\")\n",
    "e = o.loc[o.profe == 'elisa']\n",
    "m = pd.concat([e.loc[e.CF1op >= 70], e.loc[~isnan(e.CF2op)]])\n",
    "print(m.hrsEstudio.value_counts())\n",
    "m.hrsEstudio = m.hrsEstudio.replace(\"< 1 h\", \"< 2 h\")\n",
    "m.hrsEstudio = m.hrsEstudio.replace(\"1-2 h\", \"< 2 h\")\n",
    "print(m.hrsEstudio.value_counts())\n",
    "n = [g[1].CF1op.dropna() for g in m.groupby(['hrsEstudio'])]\n",
    "print(\"insuf\" if min([len(x) for x in n]) < 5 else \"sin dif\" if kruskal(*n)[1] > a else \"hay dif\")"
   ]
  },
  {
   "cell_type": "markdown",
   "metadata": {},
   "source": [
    "Pues, no afecta. Pues, tomemos ahora los que sí afectan y empezamos con lo de modelos lineales para determinar cómo afecta. \n",
    "\n",
    "Intentemos primero modelar la calificación de 2da op como una función de la calificación de 1ra op con __[regresión lineal](https://docs.scipy.org/doc/scipy/reference/generated/scipy.stats.linregress.html)__:"
   ]
  },
  {
   "cell_type": "code",
   "execution_count": 39,
   "metadata": {},
   "outputs": [
    {
     "name": "stdout",
     "output_type": "stream",
     "text": [
      "y = f(x) = 0.6939 x + 29.1425\n",
      "error 0.0767632474655\n",
      "valor p 8.48457917635e-13\n",
      "pendiente significativo\n",
      "R^2 0.576584209713\n"
     ]
    },
    {
     "data": {
      "image/png": "[encoded data removed]",
      "text/plain": [
       "<matplotlib.figure.Figure at 0x117a8a4a8>"
      ]
     },
     "metadata": {
      "needs_background": "light"
     },
     "output_type": "display_data"
    }
   ],
   "source": [
    "import matplotlib.pyplot as plt\n",
    "from scipy import stats\n",
    "from numpy import isnan\n",
    "import pandas as pd\n",
    "import ssl\n",
    "\n",
    "if getattr(ssl, '_create_unverified_context', None):\n",
    "    ssl._create_default_https_context = ssl._create_unverified_context\n",
    "o = pd.read_csv(\"https://elisa.dyndns-web.com/teaching/comp/datasci/modelar.csv\")\n",
    "e = o.loc[o.profe == 'elisa']\n",
    "m = pd.concat([e.loc[e.CF1op >= 70], e.loc[~isnan(e.CF2op)]])\n",
    "\n",
    "y = m.CF2op # lo que se modela\n",
    "x = m.CF1op # en función de qué se modela, es decir, queremos un y = f(x) = a * x + b\n",
    "mascara = ~isnan(x) & ~isnan(y)\n",
    "x = x[mascara]\n",
    "y = y[mascara]\n",
    "\n",
    "a, b, r, p, e = stats.linregress(x, y)\n",
    "print(\"y = f(x) = {:.4f} x + {:.4f}\".format(a, b))\n",
    "print(\"error\", e)\n",
    "print(\"valor p\", p)\n",
    "print(\"pendiente {:s}significativo\".format(\"no \" if p >= 0.05 else \"\"))\n",
    "print(\"R^2\", r**2)\n",
    "\n",
    "plt.plot(x, (a * x + b), label = 'y = {:.1f}x + {:.0f}'.format(a, b), color = 'red', linewidth = 3)\n",
    "plt.scatter(x, y)\n",
    "plt.legend(loc='upper left')\n",
    "plt.xlabel(\"1 op\")\n",
    "plt.ylabel(\"2 op\")\n",
    "plt.show()"
   ]
  },
  {
   "cell_type": "markdown",
   "metadata": {},
   "source": [
    "Entonces, la calificación de 2da op en mates discretas con Elisa se puede estimar como 0.7 veces la de 1ra más 29, aproximadamente.\n",
    "\n",
    "Vamos a ver la relación de horas de trabajo con la calificación de primera oportunidad con esta misma metodología."
   ]
  },
  {
   "cell_type": "code",
   "execution_count": 41,
   "metadata": {},
   "outputs": [
    {
     "name": "stdout",
     "output_type": "stream",
     "text": [
      "y = f(x) = -0.1013 x + 76.9600\n",
      "error 0.0396235349594\n",
      "valor p 0.0116398480166\n",
      "pendiente significativo\n",
      "R^2 0.0439842349679\n"
     ]
    },
    {
     "data": {
      "image/png": "[encoded data removed]",
      "text/plain": [
       "<matplotlib.figure.Figure at 0x118481470>"
      ]
     },
     "metadata": {
      "needs_background": "light"
     },
     "output_type": "display_data"
    }
   ],
   "source": [
    "import matplotlib.pyplot as plt\n",
    "from scipy import stats\n",
    "from numpy import isnan\n",
    "import pandas as pd\n",
    "import ssl\n",
    "\n",
    "if getattr(ssl, '_create_unverified_context', None):\n",
    "    ssl._create_default_https_context = ssl._create_unverified_context\n",
    "o = pd.read_csv(\"https://elisa.dyndns-web.com/teaching/comp/datasci/modelar.csv\")\n",
    "e = o.loc[o.profe == 'elisa']\n",
    "m = pd.concat([e.loc[e.CF1op >= 70], e.loc[~isnan(e.CF2op)]])\n",
    "\n",
    "y = m.CF1op # lo que se modela\n",
    "x = m.hrsNum # en función de qué se modela, es decir, queremos un y = f(x) = a * x + b\n",
    "mascara = ~isnan(x) & ~isnan(y)\n",
    "x = x[mascara]\n",
    "y = y[mascara]\n",
    "\n",
    "a, b, r, p, e = stats.linregress(x, y)\n",
    "print(\"y = f(x) = {:.4f} x + {:.4f}\".format(a, b))\n",
    "print(\"error\", e)\n",
    "print(\"valor p\", p)\n",
    "print(\"pendiente {:s}significativo\".format(\"no \" if p >= 0.05 else \"\"))\n",
    "print(\"R^2\", r**2)\n",
    "\n",
    "plt.plot(x, (a * x + b), label = 'y = {:.1f}x + {:.0f}'.format(a, b), color = 'red', linewidth = 3)\n",
    "plt.scatter(x, y)\n",
    "plt.legend(loc='upper right')\n",
    "plt.xlabel(\"Horas semanales de trabajo\")\n",
    "plt.ylabel(\"CF de 1ra oportunidad\")\n",
    "plt.show()"
   ]
  },
  {
   "cell_type": "markdown",
   "metadata": {},
   "source": [
    "El error es mucho mayor, en gran parte debido a la discretización del eje horizontal por cómo era formulada la pregunta en la encuesta: la calificación de primera parece bajar en función de las horas de trabajo. Vamos a calcular, según este modelo, cuántos puntos se pierde por cada 10 horas de trabajo semanal."
   ]
  },
  {
   "cell_type": "code",
   "execution_count": 45,
   "metadata": {},
   "outputs": [
    {
     "name": "stdout",
     "output_type": "stream",
     "text": [
      "trabajando 0 hrs, sacas un 77\n",
      "trabajando 10 hrs, sacas un 76\n",
      "trabajando 20 hrs, sacas un 75\n",
      "trabajando 30 hrs, sacas un 74\n",
      "trabajando 40 hrs, sacas un 73\n",
      "trabajando 50 hrs, sacas un 72\n",
      "trabajando 60 hrs, sacas un 71\n",
      "trabajando 70 hrs, sacas un 70\n",
      "trabajando 80 hrs, sacas un 69\n"
     ]
    }
   ],
   "source": [
    "import matplotlib.pyplot as plt\n",
    "from scipy import stats\n",
    "from numpy import isnan\n",
    "import pandas as pd\n",
    "import ssl\n",
    "\n",
    "if getattr(ssl, '_create_unverified_context', None):\n",
    "    ssl._create_default_https_context = ssl._create_unverified_context\n",
    "o = pd.read_csv(\"https://elisa.dyndns-web.com/teaching/comp/datasci/modelar.csv\")\n",
    "e = o.loc[o.profe == 'elisa']\n",
    "m = pd.concat([e.loc[e.CF1op >= 70], e.loc[~isnan(e.CF2op)]])\n",
    "\n",
    "y = m.CF1op # lo que se modela\n",
    "x = m.hrsNum # en función de qué se modela, es decir, queremos un y = f(x) = a * x + b\n",
    "mascara = ~isnan(x) & ~isnan(y)\n",
    "x = x[mascara]\n",
    "y = y[mascara]\n",
    "\n",
    "a, b, r, p, e = stats.linregress(x, y)\n",
    "for hrs in range(0, 81, 10): # de cero a 80 hrs por semana en brincos de 10 hrs\n",
    "    print(\"trabajando {:d} hrs, sacas un {:.0f}\".format(hrs, a * hrs + b))"
   ]
  },
  {
   "cell_type": "markdown",
   "metadata": {},
   "source": [
    "Pues, el efecto pinta muy leve. Trabajando dos chambas de tiempo completo, uno terminaría reprobando, que no suena nada sorprendente. \n",
    "\n",
    "¿Qué tal el efecto del semestre de ingreso?"
   ]
  },
  {
   "cell_type": "code",
   "execution_count": 51,
   "metadata": {},
   "outputs": [
    {
     "name": "stdout",
     "output_type": "stream",
     "text": [
      "y = f(x) = 6.5985 x + 69.5165\n",
      "error 1.25072582257\n",
      "valor p 2.76571990273e-07\n",
      "pendiente significativo\n",
      "R^2 0.0957011275516\n"
     ]
    },
    {
     "data": {
      "image/png": "[encoded data removed]",
      "text/plain": [
       "<matplotlib.figure.Figure at 0x11838ccf8>"
      ]
     },
     "metadata": {
      "needs_background": "light"
     },
     "output_type": "display_data"
    },
    {
     "name": "stdout",
     "output_type": "stream",
     "text": [
      "Si entraste en enero, sacas 70\n",
      "Si entraste en agosto, sacas 76\n"
     ]
    }
   ],
   "source": [
    "import matplotlib.pyplot as plt\n",
    "from scipy import stats\n",
    "from numpy import isnan\n",
    "import pandas as pd\n",
    "import ssl\n",
    "\n",
    "if getattr(ssl, '_create_unverified_context', None):\n",
    "    ssl._create_default_https_context = ssl._create_unverified_context\n",
    "o = pd.read_csv(\"https://elisa.dyndns-web.com/teaching/comp/datasci/modelar.csv\")\n",
    "e = o.loc[o.profe == 'elisa']\n",
    "m = pd.concat([e.loc[e.CF1op >= 70], e.loc[~isnan(e.CF2op)]])\n",
    "\n",
    "y = m.CF1op # lo que se modela\n",
    "x = m.inicio # en función de qué se modela, es decir, queremos un y = f(x) = a * x + b\n",
    "x = x.replace(\"enero\", 0) # ocupan ser números\n",
    "x = x.replace(\"agosto\", 1)\n",
    "mascara = ~isnan(x) & ~isnan(y)\n",
    "x = x[mascara]\n",
    "y = y[mascara]\n",
    "\n",
    "a, b, r, p, e = stats.linregress(x, y)\n",
    "print(\"y = f(x) = {:.4f} x + {:.4f}\".format(a, b))\n",
    "print(\"error\", e)\n",
    "print(\"valor p\", p)\n",
    "print(\"pendiente {:s}significativo\".format(\"no \" if p >= 0.05 else \"\"))\n",
    "print(\"R^2\", r**2)\n",
    "\n",
    "plt.plot(x, (a * x + b), label = 'y = {:.1f}x + {:.0f}'.format(a, b), color = 'red', linewidth = 3)\n",
    "plt.scatter(x, y)\n",
    "plt.legend(loc='upper center')\n",
    "plt.xlabel(\"Semestre de ingreso a la FIME\")\n",
    "plt.xticks([0, 1], [\"enero\", \"agosto\"])\n",
    "plt.ylabel(\"CF de 1ra oportunidad\")\n",
    "plt.show()\n",
    "\n",
    "print(\"Si entraste en enero, sacas {:.0f}\".format(b))\n",
    "print(\"Si entraste en agosto, sacas {:.0f}\".format(a + b))"
   ]
  },
  {
   "cell_type": "markdown",
   "metadata": {},
   "source": [
    "El error es algo grande y se nota en la gráfica que hay datos anomales (se les dice outliers en inglés), pero sí pinta que hay un efecto ahí.\n",
    "\n",
    "Se supone que el plan de horas de estudio también afectaba. Hay que asignarle una escala numérica a las categorias antes de modelarlo."
   ]
  },
  {
   "cell_type": "code",
   "execution_count": 57,
   "metadata": {
    "scrolled": true
   },
   "outputs": [
    {
     "name": "stdout",
     "output_type": "stream",
     "text": [
      "['3-5 h' '2-3 h' '> 5 h' '1-2 h' nan '< 1 h']\n",
      "y = f(x) = -0.5522 x + 75.5285\n",
      "error 0.412061914601\n",
      "valor p 0.181553176834\n",
      "pendiente no significativo\n",
      "R^2 0.00781483040268\n"
     ]
    },
    {
     "data": {
      "image/png": "[encoded data removed]",
      "text/plain": [
       "<matplotlib.figure.Figure at 0x114af9da0>"
      ]
     },
     "metadata": {
      "needs_background": "light"
     },
     "output_type": "display_data"
    }
   ],
   "source": [
    "import matplotlib.pyplot as plt\n",
    "from scipy import stats\n",
    "from numpy import isnan\n",
    "import pandas as pd\n",
    "import ssl\n",
    "\n",
    "if getattr(ssl, '_create_unverified_context', None):\n",
    "    ssl._create_default_https_context = ssl._create_unverified_context\n",
    "o = pd.read_csv(\"https://elisa.dyndns-web.com/teaching/comp/datasci/modelar.csv\")\n",
    "e = o.loc[o.profe == 'elisa']\n",
    "m = pd.concat([e.loc[e.CF1op >= 70], e.loc[~isnan(e.CF2op)]])\n",
    "\n",
    "y = m.CF1op # lo que se modela\n",
    "x = m.hrsEstudio_ini # en función de qué se modela, es decir, queremos un y = f(x) = a * x + b\n",
    "print(m.hrsEstudio_ini.unique())\n",
    "x = x.replace(['3-5 h', '2-3 h', '> 5 h', '1-2 h', '< 1 h'],\\\n",
    "             [4, 2.5, 6, 1.5, 0]) # obvio que esto afecta en cómo queda, intentemos con algo\n",
    "mascara = ~isnan(x) & ~isnan(y)\n",
    "x = x[mascara]\n",
    "y = y[mascara]\n",
    "\n",
    "a, b, r, p, e = stats.linregress(x, y)\n",
    "print(\"y = f(x) = {:.4f} x + {:.4f}\".format(a, b))\n",
    "print(\"error\", e)\n",
    "print(\"valor p\", p)\n",
    "print(\"pendiente {:s}significativo\".format(\"no \" if p >= 0.05 else \"\"))\n",
    "print(\"R^2\", r**2)\n",
    "plt.plot(x, (a * x + b), label = 'y = {:.1f}x + {:.0f}'.format(a, b), color = 'red', linewidth = 3)\n",
    "plt.scatter(x, y)\n",
    "plt.legend(loc='lower left')\n",
    "plt.xlabel(\"Plan inicial de horas de estudio\")\n",
    "plt.xticks([0, 1.5, 2.5, 4, 6], [\"< 1 h\", \"1-2 h\", \"2-3 h\", \"3-5h\", \"> 5h\"])\n",
    "plt.ylabel(\"CF de 1ra oportunidad\")\n",
    "plt.show()"
   ]
  },
  {
   "cell_type": "markdown",
   "metadata": {},
   "source": [
    "Es mucho el error, el pendiente *no* difiere significativamente de cero y se nota en la gráfica que el último grupo va bajando. Vamos a reagrupar, combinando los < 1 h con los 1-2 horas. Quitemos además los que dicen que estudiarán más de cinco horas semanales fuera de clase para una sola unidad de aprendizaje (todos sabemos que es una alucionación más que un plan de acción viable y realista)."
   ]
  },
  {
   "cell_type": "code",
   "execution_count": 62,
   "metadata": {},
   "outputs": [
    {
     "name": "stdout",
     "output_type": "stream",
     "text": [
      "['3-5 h' '2-3 h' '> 5 h' '1-2 h' nan '< 1 h']\n",
      "y = f(x) = -0.1453 x + 74.7099\n",
      "error 0.529075306897\n",
      "valor p 0.783898250347\n",
      "pendiente no significativo\n",
      "R^2 0.000398905514951\n"
     ]
    },
    {
     "data": {
      "image/png": "[encoded data removed]",
      "text/plain": [
       "<matplotlib.figure.Figure at 0x11810f518>"
      ]
     },
     "metadata": {
      "needs_background": "light"
     },
     "output_type": "display_data"
    }
   ],
   "source": [
    "import matplotlib.pyplot as plt\n",
    "from scipy import stats\n",
    "from numpy import isnan, NaN\n",
    "import pandas as pd\n",
    "import ssl\n",
    "\n",
    "if getattr(ssl, '_create_unverified_context', None):\n",
    "    ssl._create_default_https_context = ssl._create_unverified_context\n",
    "o = pd.read_csv(\"https://elisa.dyndns-web.com/teaching/comp/datasci/modelar.csv\")\n",
    "e = o.loc[o.profe == 'elisa']\n",
    "m = pd.concat([e.loc[e.CF1op >= 70], e.loc[~isnan(e.CF2op)]])\n",
    "\n",
    "y = m.CF1op # lo que se modela\n",
    "x = m.hrsEstudio_ini # en función de qué se modela, es decir, queremos un y = f(x) = a * x + b\n",
    "print(m.hrsEstudio_ini.unique())\n",
    "x = x.replace(['3-5 h', '2-3 h', '> 5 h', '1-2 h', '< 1 h'],\\\n",
    "             [4, 2.5, NaN, 1, 1]) # segundo intento\n",
    "mascara = ~isnan(x) & ~isnan(y)\n",
    "x = x[mascara]\n",
    "y = y[mascara]\n",
    "\n",
    "a, b, r, p, e = stats.linregress(x, y)\n",
    "print(\"y = f(x) = {:.4f} x + {:.4f}\".format(a, b))\n",
    "print(\"error\", e)\n",
    "print(\"valor p\", p)\n",
    "print(\"pendiente {:s}significativo\".format(\"no \" if p >= 0.05 else \"\"))\n",
    "print(\"R^2\", r**2)\n",
    "plt.plot(x, (a * x + b), label = 'y = {:.1f}x + {:.0f}'.format(a, b), color = 'red', linewidth = 3)\n",
    "plt.scatter(x, y)\n",
    "plt.xlabel(\"Plan inicial de horas de estudio\")\n",
    "plt.xticks([1, 2.5, 4], [\"0-2 h\", \"2-3 h\", \"3-5h\"])\n",
    "plt.ylabel(\"CF de 1ra oportunidad\")\n",
    "plt.show()"
   ]
  },
  {
   "cell_type": "markdown",
   "metadata": {},
   "source": [
    "Nope, nada útil. Otro intento: ponemos en un grupo los que dicen que estudian menos de una hora con los que alucinan sobre más de cinco horas y en otro grupo los planes realistas de estudio."
   ]
  },
  {
   "cell_type": "code",
   "execution_count": 66,
   "metadata": {},
   "outputs": [
    {
     "name": "stdout",
     "output_type": "stream",
     "text": [
      "['3-5 h' '2-3 h' '> 5 h' '1-2 h' nan '< 1 h']\n",
      "y = f(x) = 3.8421 x + 70.6364\n",
      "error 1.72170422655\n",
      "valor p 0.0266152687141\n",
      "pendiente significativo\n",
      "R^2 0.0213751241845\n"
     ]
    },
    {
     "data": {
      "image/png": "[encoded data removed]",
      "text/plain": [
       "<matplotlib.figure.Figure at 0x118902320>"
      ]
     },
     "metadata": {
      "needs_background": "light"
     },
     "output_type": "display_data"
    },
    {
     "name": "stdout",
     "output_type": "stream",
     "text": [
      "Si tu plan de estudiar tiene sentido, sacas 74\n",
      "Si tu plan no convence, sacas 71\n"
     ]
    }
   ],
   "source": [
    "import matplotlib.pyplot as plt\n",
    "from scipy import stats\n",
    "from numpy import isnan\n",
    "import pandas as pd\n",
    "import ssl\n",
    "\n",
    "if getattr(ssl, '_create_unverified_context', None):\n",
    "    ssl._create_default_https_context = ssl._create_unverified_context\n",
    "o = pd.read_csv(\"https://elisa.dyndns-web.com/teaching/comp/datasci/modelar.csv\")\n",
    "e = o.loc[o.profe == 'elisa']\n",
    "m = pd.concat([e.loc[e.CF1op >= 70], e.loc[~isnan(e.CF2op)]])\n",
    "\n",
    "y = m.CF1op # lo que se modela\n",
    "x = m.hrsEstudio_ini # en función de qué se modela, es decir, queremos un y = f(x) = a * x + b\n",
    "print(m.hrsEstudio_ini.unique())\n",
    "x = x.replace(['3-5 h', '2-3 h', '> 5 h', '1-2 h', '< 1 h'], [1, 1, 0, 1, 0]) # último intento\n",
    "mascara = ~isnan(x) & ~isnan(y)\n",
    "x = x[mascara]\n",
    "y = y[mascara]\n",
    "\n",
    "a, b, r, p, e = stats.linregress(x, y)\n",
    "print(\"y = f(x) = {:.4f} x + {:.4f}\".format(a, b))\n",
    "print(\"error\", e)\n",
    "print(\"valor p\", p)\n",
    "print(\"pendiente {:s}significativo\".format(\"no \" if p >= 0.05 else \"\"))\n",
    "print(\"R^2\", r**2)\n",
    "plt.plot(x, (a * x + b), label = 'y = {:.1f}x + {:.0f}'.format(a, b), color = 'red', linewidth = 3)\n",
    "plt.scatter(x, y)\n",
    "plt.legend(loc='lower center')\n",
    "plt.xlabel(\"Tipo de plan inicial de horas de estudio\")\n",
    "plt.xticks([0, 1], [\"Absurda\", \"Realista\"])\n",
    "plt.ylabel(\"CF de 1ra oportunidad\")\n",
    "plt.show()\n",
    "print(\"Si tu plan de estudiar tiene sentido, sacas {:.0f}\".format(a + b))\n",
    "print(\"Si tu plan no convence, sacas {:.0f}\".format(b))"
   ]
  },
  {
   "cell_type": "markdown",
   "metadata": {},
   "source": [
    "Hey. Ya obtuve un pendiente significativo. Aún así, la diferencia es poca y el error es grande.\n",
    "\n",
    "Vamos a ver cómo son estos modelos para los alumnos de Moisés que se esforzaron (el mismo tipo de filtro):"
   ]
  },
  {
   "cell_type": "code",
   "execution_count": 107,
   "metadata": {},
   "outputs": [
    {
     "name": "stdout",
     "output_type": "stream",
     "text": [
      "579\n",
      "113\n",
      "73\n",
      "8\n",
      "81\n",
      "no normal\n",
      "estimado inicial: antes 0.195781365919 después 0.287209365884\n",
      "estimado a la mitad: antes 0.488145928468 después 0.538297253146\n",
      "estimado final: antes 0.462213304941 después 0.182485232562\n",
      "datos insuficientes para segundas\n",
      "datos insuficientes para ini_vs_mcu\n",
      "datos insuficientes para mcu_vs_ord\n",
      "datos insuficientes para ini_vs_ord\n",
      "sin diferencia para sem de ingreso\n",
      "insufientes datos para hrs de trabajo\n",
      "insufientes datos para sabe cr\n",
      "insufientes datos para sabe hrs\n",
      "insufientes datos para sabe ambos\n",
      "hay diferencia para sabe prom\n",
      "sin diferencia para fue a asesorias\n",
      "sin diferencia para estudio ini\n",
      "insufientes datos para estudio mcu\n",
      "insufientes datos para estudio ord\n",
      "['3-5 h' '2-3 h' '1-2 h' nan '> 5 h']\n",
      "y = f(x) = 1.0006 x + 79.2065\n",
      "error 1.27430436032\n",
      "valor p 0.440709150592\n",
      "pendiente no significativo\n",
      "R^2 0.0272607381121\n",
      "si planeas estudiar > 5 h, sacas un 86\n",
      "si planeas estudiar 3-5 h, sacas un 83\n",
      "si planeas estudiar 2-3 h, sacas un 81\n",
      "si planeas estudiar 1-2 h, sacas un 80\n",
      "y = f(x) = -0.1043 x + 87.1989\n",
      "error 0.259828202622\n",
      "valor p 0.696552739162\n",
      "pendiente no significativo\n",
      "R^2 0.0158585155459\n",
      "trabajando 0 hrs, sacas un 87\n",
      "trabajando 10 hrs, sacas un 86\n",
      "trabajando 20 hrs, sacas un 85\n",
      "trabajando 30 hrs, sacas un 84\n",
      "trabajando 40 hrs, sacas un 83\n",
      "trabajando 50 hrs, sacas un 82\n",
      "trabajando 60 hrs, sacas un 81\n",
      "trabajando 70 hrs, sacas un 80\n",
      "trabajando 80 hrs, sacas un 79\n",
      "y = f(x) = -6.9867 x + 87.6667\n",
      "error 5.81440550636\n",
      "valor p 0.233103284955\n",
      "pendiente no significativo\n",
      "R^2 0.0179488419828\n",
      "Si entraste en enero, sacas 88\n",
      "Si entraste en agosto, sacas 81\n"
     ]
    },
    {
     "data": {
      "image/png": "[encoded data removed]",
      "text/plain": [
       "<matplotlib.figure.Figure at 0x11bc8fa90>"
      ]
     },
     "metadata": {
      "needs_background": "light"
     },
     "output_type": "display_data"
    }
   ],
   "source": [
    "import pandas as pd\n",
    "from numpy import isnan\n",
    "from statsmodels.graphics.gofplots import qqplot\n",
    "import matplotlib.pyplot as plt\n",
    "from scipy.stats import shapiro\n",
    "import ssl\n",
    "\n",
    "if getattr(ssl, '_create_unverified_context', None):\n",
    "    ssl._create_default_https_context = ssl._create_unverified_context\n",
    "d = pd.read_csv(\"https://elisa.dyndns-web.com/teaching/comp/datasci/modelar.csv\")\n",
    "print(len(d))\n",
    "moi = d.loc[d.profe == 'moi'] # filtramos los de moi ahora  \n",
    "print(len(moi))\n",
    "d1 = moi.loc[moi.CF1op >= 70]\n",
    "print(len(d1))\n",
    "d2 = moi.loc[~isnan(moi.CF2op)]\n",
    "print(len(d2))\n",
    "m = pd.concat([d1, d2])\n",
    "print(len(m))\n",
    "d = m.CF1op.dropna()\n",
    "plt.rcParams[\"figure.figsize\"] = [6, 9]\n",
    "f = plt.figure()  \n",
    "qqplot(d, line='s', ax = f.add_subplot(311))\n",
    "sf = f.add_subplot(312)\n",
    "sf.hist(d)\n",
    "sf.set_xlabel(\"Calificación de 1ra op\")\n",
    "sf.set_ylabel(\"Frecuencia absoluta\")\n",
    "a = 0.05\n",
    "print(\"normal\" if shapiro(d)[1] > a else \"no normal\")\n",
    "print(\"estimado inicial: antes\", o.CF1op.corr(o.eI), \"después\", m.CF1op.corr(m.eI))\n",
    "print(\"estimado a la mitad: antes\", o.CF1op.corr(o.eM), \"después\", m.CF1op.corr(m.eM))\n",
    "print(\"estimado final: antes\", o.CF1op.corr(o.eF), \"después\", m.CF1op.corr(m.eF))\n",
    "pares = dict()\n",
    "x = m.loc[~isnan(m.CF1op) & ~isnan(m.CF2op)]\n",
    "pares['segundas'] = (x.CF1op, x.CF2op)\n",
    "x = m.loc[~isnan(m.eI) & ~isnan(m.eM)]\n",
    "pares['ini_vs_mcu'] = (x.eI, x.eM)\n",
    "x = m.loc[~isnan(m.eM) & ~isnan(m.eF)]\n",
    "pares['mcu_vs_ord'] = (x.eM, x.eF)\n",
    "x = m.loc[~isnan(m.eI) & ~isnan(m.eF)]\n",
    "pares['ini_vs_ord'] = (x.eI, x.eF)                                                                                                            \n",
    "for d in pares:\n",
    "    (d1, d2) = pares[d]\n",
    "    print('datos insuficientes' if min(len(d1), len(d2)) < 20 else \\\n",
    "          \"iguales\" if wilcoxon(d1, d2)[1] > a else \"diferentes\", \"para\", d)\n",
    "niv = {'sem de ingreso': [g[1].CF1op.dropna() for g in m.groupby(['inicio'])], \\\n",
    "       'hrs de trabajo':  [g[1].CF1op.dropna() for g in m.groupby(['hrsNum'])], \\\n",
    "       'sabe cr':  [g[1].CF1op.dropna() for g in m.groupby(['sabeCreditos'])], \\\n",
    "       'sabe hrs': [g[1].CF1op.dropna() for g in m.groupby(['sabeHoras'])], \\\n",
    "       'sabe ambos': [g[1].CF1op.dropna() for g in m.groupby(['sabeAmbos'])], \\\n",
    "       'sabe prom': [g[1].CF1op.dropna() for g in m.groupby(['sabePromedio'])], \\\n",
    "       'fue a asesorias': [g[1].CF1op.dropna() for g in m.groupby(['fueAses'])], \\\n",
    "       'estudio ini': [g[1].CF1op.dropna() for g in m.groupby(['hrsEstudio_ini'])], \\\n",
    "       'estudio mcu': [g[1].CF1op.dropna() for g in m.groupby(['hrsEstudio_mcu'])], \\\n",
    "       'estudio ord': [g[1].CF1op.dropna() for g in m.groupby(['hrsEstudio'])]}\n",
    "print('\\n'.join([(\"insufientes datos\" if min([len(x) for x in niv[d]]) < 5 else \\\n",
    "                  \"sin diferencia\" if kruskal(*niv[d])[1] > a else \"hay diferencia\") +  \\\n",
    "                 \" para \" +  d for d in niv]))\n",
    "y = m.CF1op # lo que se modela\n",
    "x = m.hrsEstudio_ini # en función de qué se modela, es decir, queremos un y = f(x) = a * x + b\n",
    "print(m.hrsEstudio_ini.unique())\n",
    "x = x.replace(['3-5 h', '2-3 h', '1-2 h','> 5 h'], [4, 1.5, 0.5, 7]) \n",
    "mascara = ~isnan(x) & ~isnan(y)\n",
    "a, b, r, p, e = stats.linregress(x[mascara], y[mascara])\n",
    "print(\"y = f(x) = {:.4f} x + {:.4f}\".format(a, b))\n",
    "print(\"error\", e)\n",
    "print(\"valor p\", p)\n",
    "print(\"pendiente {:s}significativo\".format(\"no \" if p >= 0.05 else \"\"))\n",
    "print(\"R^2\", r**2)\n",
    "for (descr, valor) in zip(['> 5 h', '3-5 h', '2-3 h', '1-2 h',], [7, 4, 1.5, 0.5]):\n",
    "    print(\"si planeas estudiar {:s}, sacas un {:.0f}\".format(descr, a * valor + b))\n",
    "\n",
    "x = m.hrsNum # en función de qué se modela, es decir, queremos un y = f(x) = a * x + b\n",
    "mascara = ~isnan(x) & ~isnan(y)\n",
    "a, b, r, p, e = stats.linregress(x[mascara], y[mascara])\n",
    "print(\"y = f(x) = {:.4f} x + {:.4f}\".format(a, b))\n",
    "print(\"error\", e)\n",
    "print(\"valor p\", p)\n",
    "print(\"pendiente {:s}significativo\".format(\"no \" if p >= 0.05 else \"\"))\n",
    "print(\"R^2\", r**2)\n",
    "sf = f.add_subplot(313)\n",
    "sf.plot(x[mascara], (a * x[mascara] + b), label = 'y = {:.1f}x + {:.0f}'.format(a, b), color = 'red', linewidth = 3)\n",
    "sf.scatter(x[mascara], y[mascara])\n",
    "sf.set_xlabel(\"Horas semanales de trabajo\")\n",
    "sf.set_ylabel(\"CF de 1ra oportunidad\")\n",
    "for hrs in range(0, 81, 10): \n",
    "    print(\"trabajando {:d} hrs, sacas un {:.0f}\".format(hrs, a * hrs + b))\n",
    "    \n",
    "x = m.inicio # en función de qué se modela, es decir, queremos un y = f(x) = a * x + b\n",
    "x = x.replace(\"enero\", 0) # ocupan ser números\n",
    "x = x.replace(\"agosto\", 1)\n",
    "mascara = ~isnan(x) & ~isnan(y)\n",
    "a, b, r, p, e = stats.linregress(x[mascara], y[mascara])\n",
    "print(\"y = f(x) = {:.4f} x + {:.4f}\".format(a, b))\n",
    "print(\"error\", e)\n",
    "print(\"valor p\", p)\n",
    "print(\"pendiente {:s}significativo\".format(\"no \" if p >= 0.05 else \"\"))\n",
    "print(\"R^2\", r**2)\n",
    "print(\"Si entraste en enero, sacas {:.0f}\".format(b))\n",
    "print(\"Si entraste en agosto, sacas {:.0f}\".format(a + b))\n",
    "\n",
    "plt.tight_layout()\n",
    "plt.show()\n"
   ]
  },
  {
   "cell_type": "markdown",
   "metadata": {},
   "source": [
    "Para los alumnos de Moisés, los pendientes no son significativos y los modelos concluyen al revés: planear estudiar más resulta en mejores calificaciones y entrar en enero (son pocos) da mejores resultados. Los datos de 1ra op parecen aún menos normalmente distribuidos que antes. Es interesante ver que los alumnos de Moisés parecen tener mucho menos horas de trabajo a la semana..."
   ]
  },
  {
   "cell_type": "code",
   "execution_count": 130,
   "metadata": {},
   "outputs": [
    {
     "name": "stdout",
     "output_type": "stream",
     "text": [
      "MannwhitneyuResult(statistic=649.5, pvalue=0.00072803558272841178)\n"
     ]
    },
    {
     "data": {
      "image/png": "[encoded data removed]",
      "text/plain": [
       "<matplotlib.figure.Figure at 0x11c5bd828>"
      ]
     },
     "metadata": {
      "needs_background": "light"
     },
     "output_type": "display_data"
    }
   ],
   "source": [
    "from scipy.stats import mannwhitneyu\n",
    "import matplotlib.pyplot as plt\n",
    "import pandas as pd\n",
    "import ssl\n",
    "\n",
    "if getattr(ssl, '_create_unverified_context', None):\n",
    "    ssl._create_default_https_context = ssl._create_unverified_context\n",
    "d = pd.read_csv(\"https://elisa.dyndns-web.com/teaching/comp/datasci/modelar.csv\")\n",
    "elisa = d.loc[d.profe == 'elisa'] \n",
    "moi = d.loc[d.profe == 'moi'] \n",
    "e = elisa.hrsNum.dropna()\n",
    "m = moi.hrsNum.dropna()\n",
    "print(mannwhitneyu(e, m))\n",
    "# estilo visual modificado de https://matplotlib.org/gallery/statistics/boxplot.html\n",
    "bp = dict(linestyle='-', linewidth = 2, color='black', facecolor='yellow')\n",
    "fp = dict(marker = 'o', markerfacecolor = 'green', markersize = 5, linestyle = 'none')\n",
    "mp = dict(linestyle = '-', linewidth = 2.5, color ='firebrick')\n",
    "plt.boxplot([e, m], labels=[\"Alumnos de Elisa\", \"Alumnos de Moisés\"], \\\n",
    "            boxprops = bp, flierprops = fp, medianprops = mp, patch_artist = True)\n",
    "plt.show()\n"
   ]
  },
  {
   "cell_type": "markdown",
   "metadata": {},
   "source": [
    "Esto sí es una diferencia significativa. \n",
    "\n",
    "En resumen, ningún modelo era muy bueno (un Rˆ2 de 0.85 o algo así ya convencería), pero hemos visto que para los alumnos de Elisa, la calificación en primera oportunidad sirve para pronosticar la de segunda oportunidad y que las horas de trabajo afectan los resultados, teniendo mucha diferencia entre los alumnos de materiales entre los cuales la mitad no trabaja nada y los de mates discretas, más de la mitad de los cuales trabajan por lo menos de tiempo parcial entre semestre.\n",
    "\n",
    "En sus reportes de la sexta práctica, modelen por lo menos dos aspectos de sus datos con modelos lineales simples. Concluyan si los modelos obtenidos son significativos, grafiquen los resultados y saquen estimaciones (interpolaciones o extrapolaciones) con sus funciones f(x) obtenidas."
   ]
  }
 ],
 "metadata": {
  "kernelspec": {
   "display_name": "Python 3",
   "language": "python",
   "name": "python3"
  },
  "language_info": {
   "codemirror_mode": {
    "name": "ipython",
    "version": 3
   },
   "file_extension": ".py",
   "mimetype": "text/x-python",
   "name": "python",
   "nbconvert_exporter": "python",
   "pygments_lexer": "ipython3",
   "version": "3.6.2"
  }
 },
 "nbformat": 4,
 "nbformat_minor": 2
}
